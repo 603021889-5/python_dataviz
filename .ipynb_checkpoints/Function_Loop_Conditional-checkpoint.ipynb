{
 "cells": [
  {
   "cell_type": "markdown",
   "metadata": {},
   "source": [
    "# Function\n",
    "#### print ชื่อXXX นามสกุล YYY รหัส ZZZ\n",
    "#### print เกรด วิชา Stat1 >>AAA"
   ]
  },
  {
   "cell_type": "code",
   "execution_count": 2,
   "metadata": {},
   "outputs": [
    {
     "name": "stdout",
     "output_type": "stream",
     "text": [
      "ชื่อ โสภิตา นามสกุล แสงขาว รหัส 603021889-5\n"
     ]
    }
   ],
   "source": [
    "a='ชื่อ โสภิตา นามสกุล แสงขาว รหัส 603021889-5'\n",
    "print(a)"
   ]
  },
  {
   "cell_type": "code",
   "execution_count": 5,
   "metadata": {},
   "outputs": [
    {
     "name": "stdout",
     "output_type": "stream",
     "text": [
      "ชื่อ โสภิตา นามสกุล แสงขาว รหัส 60302189-5\n"
     ]
    }
   ],
   "source": [
    "name='โสภิตา'\n",
    "surname='แสงขาว'\n",
    "ID='60302189-5'\n",
    "\n",
    "b=f'ชื่อ {name} นามสกุล {surname} รหัส {ID}'\n",
    "print(b)"
   ]
  },
  {
   "cell_type": "markdown",
   "metadata": {},
   "source": [
    "# function templat (รูปแบบของฟังก์ชั่น)"
   ]
  },
  {
   "cell_type": "markdown",
   "metadata": {},
   "source": [
    "```python\n",
    " def function_name(x):\n",
    "    do_something\n",
    "    return output\n",
    "```\n"
   ]
  },
  {
   "cell_type": "markdown",
   "metadata": {},
   "source": [
    "## nomal function\n",
    "## >> รูปแบบการเขียนfunction โดยทั่วไป\n",
    "   #### โดยการที่เราจะเขียนฟังก์ชั่นนึงขึ้นมานั้นเราต้องประกาศตัวแปรนึงขึ้นมาเพื่ทำการเก็บตัวฟังก์ชั่นที่เราสร้างขึ้นมา โดยมีสัญลักษ์การเขียนฟังก์ชั่นคือ f '        '  ตามตัวอย่าง"
   ]
  },
  {
   "cell_type": "code",
   "execution_count": 38,
   "metadata": {},
   "outputs": [],
   "source": [
    "def print_line(name,surname,ID1):\n",
    "    st=f'ชื่อ{name} นามสกุล{surname} รหัส {ID1}'\n",
    "    \n",
    "    return st"
   ]
  },
  {
   "cell_type": "code",
   "execution_count": 39,
   "metadata": {},
   "outputs": [
    {
     "name": "stdout",
     "output_type": "stream",
     "text": [
      "ชื่อกาญจนา นามสกุลประสาคุณ รหัส 603021855-2\n"
     ]
    }
   ],
   "source": [
    "print (print_line('กาญจนา','ประสาคุณ','603021855-2'))"
   ]
  },
  {
   "cell_type": "markdown",
   "metadata": {},
   "source": [
    "#### ทำการประกาศตัวแปลขึ้นมาสองตัวเพื่อเก็บทั้งสองฟังก์ชั่น "
   ]
  },
  {
   "cell_type": "code",
   "execution_count": 22,
   "metadata": {},
   "outputs": [],
   "source": [
    "def print_2lines(name,surname,ID1,grade):\n",
    "    st=f'ชื่อ{name} นามสกุล{surname} รหัส{ID1}'\n",
    "    print(st)\n",
    "    st2=f'เกรดวิชา stat1 >>>{grade}'\n",
    "    print(st2)"
   ]
  },
  {
   "cell_type": "code",
   "execution_count": 25,
   "metadata": {},
   "outputs": [
    {
     "name": "stdout",
     "output_type": "stream",
     "text": [
      "ชื่อกาญจนา นามสกุลประสาคุณ รหัส603021855-2\n",
      "เกรดวิชา stat1 >>>A\n"
     ]
    }
   ],
   "source": [
    "print_2lines('กาญจนา','ประสาคุณ','603021855-2','A')"
   ]
  },
  {
   "cell_type": "code",
   "execution_count": 26,
   "metadata": {},
   "outputs": [
    {
     "name": "stdout",
     "output_type": "stream",
     "text": [
      "ชื่อโสภิตา นามสกุลแสงขาว รหัส603021889-5\n",
      "เกรดวิชา stat1 >>>B\n",
      "ชื่อกรวิชญ์ นามสกุลทะรังศี รหัส613020188-1\n",
      "เกรดวิชา stat1 >>>A\n",
      "ชื่อธนัชชา นามสกุลขุนทอง รหัส603020472-3\n",
      "เกรดวิชา stat1 >>>B+\n",
      "ชื่อภัทรวรรธน์ นามสกุลใจเที่ยง รหัส603021866-7\n",
      "เกรดวิชา stat1 >>>B+\n"
     ]
    }
   ],
   "source": [
    "print_2lines('โสภิตา','แสงขาว','603021889-5','B')\n",
    "print_2lines('กรวิชญ์','ทะรังศี','613020188-1','A')\n",
    "print_2lines('ธนัชชา','ขุนทอง','603020472-3','B+')\n",
    "print_2lines('ภัทรวรรธน์','ใจเที่ยง','603021866-7','B+')"
   ]
  },
  {
   "cell_type": "markdown",
   "metadata": {},
   "source": [
    "## function without input ฟังก์ชั่นที่ปราศจากการนำเข้าข้อมูล\n",
    "#### เป็นฟังก์ชั่นที่ไม่มีข้อมูลนำเข้าแต่ประกาศตัวแปรขึ้นมาเพื่อเก็บค่าการดำเนินการทางคณิตศาสตร์ เช่นการคูณกันของสองตัวแปรตามตัวอย่าง"
   ]
  },
  {
   "cell_type": "code",
   "execution_count": 32,
   "metadata": {},
   "outputs": [],
   "source": [
    "def two_x_three():\n",
    "    x=2*3\n",
    "    return x"
   ]
  },
  {
   "cell_type": "code",
   "execution_count": 33,
   "metadata": {},
   "outputs": [
    {
     "data": {
      "text/plain": [
       "6"
      ]
     },
     "execution_count": 33,
     "metadata": {},
     "output_type": "execute_result"
    }
   ],
   "source": [
    "two_x_three()"
   ]
  },
  {
   "cell_type": "markdown",
   "metadata": {},
   "source": [
    "## function with default argument ฟังก์ชั่นที่เริ่มต้นด้วย argument"
   ]
  },
  {
   "cell_type": "code",
   "execution_count": 45,
   "metadata": {},
   "outputs": [],
   "source": [
    "def print_2lines_default(name,surname,ID,grade='F'):\n",
    "    st=f'ชื่อ{name} นามสกุล {surname} รหัส{ID}'\n",
    "    print(st)\n",
    "    st2=f'เกรดวิชา stat1 >>>{grade}'\n",
    "    print(st2)"
   ]
  },
  {
   "cell_type": "code",
   "execution_count": 46,
   "metadata": {},
   "outputs": [
    {
     "name": "stdout",
     "output_type": "stream",
     "text": [
      "ชื่อกาญจนา นามสกุล ประสาคุณ รหัส603021855-2\n",
      "เกรดวิชา stat1 >>>F\n"
     ]
    }
   ],
   "source": [
    "print_2lines_default('กาญจนา','ประสาคุณ','603021855-2')"
   ]
  },
  {
   "cell_type": "code",
   "execution_count": 48,
   "metadata": {},
   "outputs": [
    {
     "name": "stdout",
     "output_type": "stream",
     "text": [
      "ชื่อกาญจนา นามสกุลประสาคุณ รหัส603021855-2\n",
      "เกรดวิชา stat1 >>>A+\n"
     ]
    }
   ],
   "source": [
    "print_2lines_default('กาญจนา','ประสาคุณ','603021855-2','A+')"
   ]
  },
  {
   "cell_type": "code",
   "execution_count": 49,
   "metadata": {},
   "outputs": [
    {
     "name": "stdout",
     "output_type": "stream",
     "text": [
      "ชื่อกาญจนา นามสกุล ประสาคุณ รหัส603021855-2\n",
      "เกรดวิชา stat1 >>>F\n"
     ]
    }
   ],
   "source": [
    "print_2lines_default(surname='ประสาคุณ',name='กาญจนา',ID='603021855-2')"
   ]
  },
  {
   "cell_type": "markdown",
   "metadata": {},
   "source": [
    "#  Loop (วนซ้ำ)\n",
    "#### โดยมี pattern ฟังก์ชั่นการทำลูปตามตัวอย่าง"
   ]
  },
  {
   "cell_type": "markdown",
   "metadata": {},
   "source": [
    "```python\n",
    "for each_member in listA:\n",
    "    do someting\n",
    "```"
   ]
  },
  {
   "cell_type": "code",
   "execution_count": 52,
   "metadata": {},
   "outputs": [
    {
     "name": "stdout",
     "output_type": "stream",
     "text": [
      "1\n",
      "2\n",
      "3\n"
     ]
    }
   ],
   "source": [
    "for i in [1,2,3]:\n",
    "    print(i)"
   ]
  },
  {
   "cell_type": "code",
   "execution_count": 53,
   "metadata": {},
   "outputs": [
    {
     "name": "stdout",
     "output_type": "stream",
     "text": [
      "S-> /\n",
      "o-> /\n",
      "p-> /\n",
      "h-> /\n",
      "i-> /\n",
      "t-> /\n",
      "a-> /\n"
     ]
    }
   ],
   "source": [
    "for i in 'Sophita':\n",
    "    print(f'{i}-> /')"
   ]
  },
  {
   "cell_type": "code",
   "execution_count": 54,
   "metadata": {},
   "outputs": [
    {
     "name": "stdout",
     "output_type": "stream",
     "text": [
      "S-> /\n",
      " \n",
      "o-> /\n",
      " \n",
      "p-> /\n",
      " \n",
      "h-> /\n",
      " \n",
      "i-> /\n",
      " \n",
      "t-> /\n",
      " \n",
      "a-> /\n",
      " \n"
     ]
    }
   ],
   "source": [
    "for i in 'Sophita':\n",
    "    print(f'{i}-> /')\n",
    "    print(' ')"
   ]
  },
  {
   "cell_type": "markdown",
   "metadata": {},
   "source": [
    "## 1.สร้าง list ชื่อเพื่อน ที่อยู่ในแถวยาวเดียวกัน \n",
    "## 1.1.วนลูบ print ประโยคว่า XXXเรา YYYความรู้สึก ZZZเพื่อน ทุกคนในแถว\n",
    "## 2.วนลูป เรียก function โดยเปลี่ยนชื่อเพื่อนไปเรื่อยๆ"
   ]
  },
  {
   "cell_type": "code",
   "execution_count": 94,
   "metadata": {},
   "outputs": [],
   "source": [
    "def i_feel(me,feeling,friends):\n",
    "    st=f'{me} {feeling} {friends}'\n",
    "    print(st)\n",
    "    "
   ]
  },
  {
   "cell_type": "markdown",
   "metadata": {},
   "source": [
    "#### สร้างloopชื่อเพื่อน"
   ]
  },
  {
   "cell_type": "code",
   "execution_count": 106,
   "metadata": {},
   "outputs": [],
   "source": [
    "friends=['พี่เจท','แตงโม','พี่บูม','เจมส์','ดายน์','น้องแคมป์']"
   ]
  },
  {
   "cell_type": "code",
   "execution_count": 107,
   "metadata": {},
   "outputs": [
    {
     "data": {
      "text/plain": [
       "['พี่เจท', 'แตงโม', 'พี่บูม', 'เจมส์', 'ดายน์', 'น้องแคมป์']"
      ]
     },
     "execution_count": 107,
     "metadata": {},
     "output_type": "execute_result"
    }
   ],
   "source": [
    "friends"
   ]
  },
  {
   "cell_type": "code",
   "execution_count": 97,
   "metadata": {},
   "outputs": [
    {
     "name": "stdout",
     "output_type": "stream",
     "text": [
      "ฝน ยินดีที่ได้รู้จัก พี่เจท\n",
      "ฝน ยินดีที่ได้รู้จัก แตงโม\n",
      "ฝน ยินดีที่ได้รู้จัก พี่บูม\n",
      "ฝน ยินดีที่ได้รู้จัก เจมส์\n",
      "ฝน ยินดีที่ได้รู้จัก ดายน์\n",
      "ฝน ยินดีที่ได้รู้จัก น้องแคมป์\n"
     ]
    }
   ],
   "source": [
    "for i in friends :\n",
    "    i_feel('ฝน','ยินดีที่ได้รู้จัก',i)"
   ]
  },
  {
   "cell_type": "markdown",
   "metadata": {},
   "source": [
    "### loop in loop สามารถใช้ for loop ซ้อนกันสองรอบได้\n",
    "#### โดยจะไล่ลูปแรกจนครบแล้วเปลี่ยนลูปที่สอง"
   ]
  },
  {
   "cell_type": "code",
   "execution_count": 133,
   "metadata": {},
   "outputs": [
    {
     "name": "stdout",
     "output_type": "stream",
     "text": [
      "พี่เจท รัก พี่เจท\n",
      "พี่เจท รัก แตงโม\n",
      "พี่เจท รัก พี่บูม\n",
      "พี่เจท รัก เจมส์\n",
      "พี่เจท รัก ดายน์\n",
      "พี่เจท รัก น้องแคมป์\n",
      "แตงโม รัก พี่เจท\n",
      "แตงโม รัก แตงโม\n",
      "แตงโม รัก พี่บูม\n",
      "แตงโม รัก เจมส์\n",
      "แตงโม รัก ดายน์\n",
      "แตงโม รัก น้องแคมป์\n",
      "พี่บูม รัก พี่เจท\n",
      "พี่บูม รัก แตงโม\n",
      "พี่บูม รัก พี่บูม\n",
      "พี่บูม รัก เจมส์\n",
      "พี่บูม รัก ดายน์\n",
      "พี่บูม รัก น้องแคมป์\n",
      "เจมส์ รัก พี่เจท\n",
      "เจมส์ รัก แตงโม\n",
      "เจมส์ รัก พี่บูม\n",
      "เจมส์ รัก เจมส์\n",
      "เจมส์ รัก ดายน์\n",
      "เจมส์ รัก น้องแคมป์\n",
      "ดายน์ รัก พี่เจท\n",
      "ดายน์ รัก แตงโม\n",
      "ดายน์ รัก พี่บูม\n",
      "ดายน์ รัก เจมส์\n",
      "ดายน์ รัก ดายน์\n",
      "ดายน์ รัก น้องแคมป์\n",
      "น้องแคมป์ รัก พี่เจท\n",
      "น้องแคมป์ รัก แตงโม\n",
      "น้องแคมป์ รัก พี่บูม\n",
      "น้องแคมป์ รัก เจมส์\n",
      "น้องแคมป์ รัก ดายน์\n",
      "น้องแคมป์ รัก น้องแคมป์\n"
     ]
    }
   ],
   "source": [
    "for name1 in friends:\n",
    "    for name2 in friends:\n",
    "        i_feel(name1,'รัก',name2)"
   ]
  },
  {
   "cell_type": "code",
   "execution_count": null,
   "metadata": {},
   "outputs": [],
   "source": []
  },
  {
   "cell_type": "markdown",
   "metadata": {},
   "source": [
    "## loop in function\n",
    "#### การวนลูปในฟังก์ชั่น"
   ]
  },
  {
   "cell_type": "code",
   "execution_count": 116,
   "metadata": {},
   "outputs": [],
   "source": [
    "def print_feeling(I,feeling,friends):\n",
    "    for friend in friends:\n",
    "        print(f'{I} {feeling} {friend}')"
   ]
  },
  {
   "cell_type": "code",
   "execution_count": 117,
   "metadata": {},
   "outputs": [
    {
     "name": "stdout",
     "output_type": "stream",
     "text": [
      "ฝน รัก พี่เจท\n",
      "ฝน รัก แตงโม\n",
      "ฝน รัก พี่บูม\n",
      "ฝน รัก เจมส์\n",
      "ฝน รัก ดายน์\n",
      "ฝน รัก น้องแคมป์\n"
     ]
    }
   ],
   "source": [
    "print_feeling('ฝน','รัก',friends)"
   ]
  },
  {
   "cell_type": "markdown",
   "metadata": {},
   "source": [
    "## looping in dict\n",
    "#### ทำการวนลูปในค่า dict โดยที่เรากำหนดตัว key และvalueขึ้นมา ตามตัวอย่าง"
   ]
  },
  {
   "cell_type": "code",
   "execution_count": 120,
   "metadata": {},
   "outputs": [
    {
     "data": {
      "text/plain": [
       "{'โสภิตา': 'A', 'ธนัชชา': 'A', 'วัทรววรธน์': 'A'}"
      ]
     },
     "execution_count": 120,
     "metadata": {},
     "output_type": "execute_result"
    }
   ],
   "source": [
    "name_grade={'โสภิตา':'A','ธนัชชา':'A','วัทรววรธน์':'A'}\n",
    "name_grade"
   ]
  },
  {
   "cell_type": "code",
   "execution_count": 121,
   "metadata": {},
   "outputs": [
    {
     "data": {
      "text/plain": [
       "'A'"
      ]
     },
     "execution_count": 121,
     "metadata": {},
     "output_type": "execute_result"
    }
   ],
   "source": [
    "name_grade['โสภิตา']"
   ]
  },
  {
   "cell_type": "code",
   "execution_count": 124,
   "metadata": {},
   "outputs": [
    {
     "data": {
      "text/plain": [
       "dict_keys(['โสภิตา', 'ธนัชชา', 'วัทรววรธน์'])"
      ]
     },
     "execution_count": 124,
     "metadata": {},
     "output_type": "execute_result"
    }
   ],
   "source": [
    "name_grade.keys()"
   ]
  },
  {
   "cell_type": "code",
   "execution_count": 123,
   "metadata": {},
   "outputs": [
    {
     "name": "stdout",
     "output_type": "stream",
     "text": [
      "โสภิตา\n",
      "ธนัชชา\n",
      "วัทรววรธน์\n"
     ]
    }
   ],
   "source": [
    "for i in name_grade.keys():\n",
    "    print(i)"
   ]
  },
  {
   "cell_type": "code",
   "execution_count": 126,
   "metadata": {},
   "outputs": [
    {
     "name": "stdout",
     "output_type": "stream",
     "text": [
      " โสภิตา ได้เกรด A\n",
      " ธนัชชา ได้เกรด A\n",
      " วัทรววรธน์ ได้เกรด A\n"
     ]
    }
   ],
   "source": [
    "for i in name_grade.keys():\n",
    "    print(f' {i} ได้เกรด {name_grade[i]}')"
   ]
  },
  {
   "cell_type": "markdown",
   "metadata": {},
   "source": [
    "# conditional\n",
    "#### การวนลูปโดยมีเงื่อนไขต่างๆมาเกี่ยวข้อง โดยมี pattern ดังนี้"
   ]
  },
  {
   "cell_type": "markdown",
   "metadata": {},
   "source": [
    "```python\n",
    "if conditional1:\n",
    "    do something\n",
    "elif conditional2:\n",
    "    do another thing\n",
    "else:\n",
    "    do ...\n",
    "```"
   ]
  },
  {
   "cell_type": "markdown",
   "metadata": {},
   "source": [
    "## การทำลูปที่ทำการเข้าลูบแรกก่อนหากแล้วออกไปยังเงื่อนไขถัดไปจนกว่าจะครบลูป"
   ]
  },
  {
   "cell_type": "code",
   "execution_count": 136,
   "metadata": {},
   "outputs": [
    {
     "name": "stdout",
     "output_type": "stream",
     "text": [
      "พี่เจท รัก แตงโม\n",
      "พี่เจท รัก พี่บูม\n",
      "พี่เจท รัก เจมส์\n",
      "พี่เจท รัก ดายน์\n",
      "พี่เจท รัก น้องแคมป์\n",
      "แตงโม รัก พี่เจท\n",
      "แตงโม รัก พี่บูม\n",
      "แตงโม รัก เจมส์\n",
      "แตงโม รัก ดายน์\n",
      "แตงโม รัก น้องแคมป์\n",
      "พี่บูม รัก พี่เจท\n",
      "พี่บูม รัก แตงโม\n",
      "พี่บูม รัก เจมส์\n",
      "พี่บูม รัก ดายน์\n",
      "พี่บูม รัก น้องแคมป์\n",
      "เจมส์ รัก พี่เจท\n",
      "เจมส์ รัก แตงโม\n",
      "เจมส์ รัก พี่บูม\n",
      "เจมส์ รัก ดายน์\n",
      "เจมส์ รัก น้องแคมป์\n",
      "ดายน์ รัก พี่เจท\n",
      "ดายน์ รัก แตงโม\n",
      "ดายน์ รัก พี่บูม\n",
      "ดายน์ รัก เจมส์\n",
      "ดายน์ รัก น้องแคมป์\n",
      "น้องแคมป์ รัก พี่เจท\n",
      "น้องแคมป์ รัก แตงโม\n",
      "น้องแคมป์ รัก พี่บูม\n",
      "น้องแคมป์ รัก เจมส์\n",
      "น้องแคมป์ รัก ดายน์\n"
     ]
    }
   ],
   "source": [
    "for name1 in friends:\n",
    "    for name2 in friends:\n",
    "        if name1 != name2:\n",
    "            i_feel(name1,'รัก',name2)"
   ]
  },
  {
   "cell_type": "markdown",
   "metadata": {},
   "source": [
    "####  หากหลังเงื่อนไข True ถูกต้องจะทำการ print ข้อความออกมา"
   ]
  },
  {
   "cell_type": "code",
   "execution_count": 137,
   "metadata": {},
   "outputs": [
    {
     "name": "stdout",
     "output_type": "stream",
     "text": [
      "Yes\n"
     ]
    }
   ],
   "source": [
    "if True:\n",
    "    print('Yes')"
   ]
  },
  {
   "cell_type": "markdown",
   "metadata": {},
   "source": [
    "#### หากหลังเงื่อไข False ไม่ถูกต้องจะไม่ปริ้นข้อความใดๆอกมาแต่จะเข้าเงื่อนไขถัดไป และปริ้นค่าเงื่อนไขนั้นอกมา ตามตัวอย่าง"
   ]
  },
  {
   "cell_type": "code",
   "execution_count": 141,
   "metadata": {},
   "outputs": [
    {
     "name": "stdout",
     "output_type": "stream",
     "text": [
      "No\n"
     ]
    }
   ],
   "source": [
    "if False:\n",
    "    print('Yes')\n",
    "else:\n",
    "    print('No')"
   ]
  },
  {
   "cell_type": "code",
   "execution_count": 142,
   "metadata": {},
   "outputs": [
    {
     "name": "stdout",
     "output_type": "stream",
     "text": [
      "1=1\n"
     ]
    }
   ],
   "source": [
    "if 1 == 1:\n",
    "    print('1=1')"
   ]
  },
  {
   "cell_type": "markdown",
   "metadata": {},
   "source": [
    "# ==   เช็คว่าข้างหน้ากับข้างหลังเท่ากันหรือไม่\n",
    "# !=    แปลว่าไม่เท่ากันหรือไม่ ถ้าไม่เท่าจะตอบ true\n",
    "# >=   แปลว่ามากกว่าเท่ากับ\n",
    "# <=   แปลว่าน้อยกว่าเท่ากับ\n",
    "# < \n",
    "# >"
   ]
  },
  {
   "cell_type": "markdown",
   "metadata": {},
   "source": [
    "# HW\n",
    "#### function ตัดเกรด โดยที่ input เป็นคะแนน(0-100) output เป็นเกรด (F-A)\n",
    "#### input=[1,50,65,90,101,-5,49]"
   ]
  },
  {
   "cell_type": "code",
   "execution_count": 26,
   "metadata": {},
   "outputs": [],
   "source": [
    "def Grade(score):\n",
    "    if 0<score<50:\n",
    "        print(f'{score} Grade is F')\n",
    "    elif 50<=score<55:\n",
    "        print(f'{score} Grade is D')\n",
    "    elif 55<=score<60:\n",
    "        print(f'{score} Grade is D+')\n",
    "    elif 60<=score<65:\n",
    "        print(f'{score} Grade is C')\n",
    "    elif 65<=score<70:\n",
    "        print(f'{score} Grade is C+')\n",
    "    elif 70<=score<75:\n",
    "        print(f'{score} Grade is B')\n",
    "    elif 75<=score<80:\n",
    "        print(f'{score} Grade is B+')\n",
    "    elif 100<score:\n",
    "        print(f'{score} score is false')\n",
    "    elif 0>score:\n",
    "        print(f'{score} score is false')    \n",
    "    else:\n",
    "        print(f'{score} Grade is A')\n",
    "        \n",
    "   \n",
    "    \n",
    "    "
   ]
  },
  {
   "cell_type": "code",
   "execution_count": 27,
   "metadata": {},
   "outputs": [
    {
     "name": "stdout",
     "output_type": "stream",
     "text": [
      "1 Grade is F\n"
     ]
    }
   ],
   "source": [
    "Grade(1)"
   ]
  },
  {
   "cell_type": "code",
   "execution_count": 28,
   "metadata": {},
   "outputs": [
    {
     "name": "stdout",
     "output_type": "stream",
     "text": [
      "50 Grade is D\n"
     ]
    }
   ],
   "source": [
    "Grade(50)"
   ]
  },
  {
   "cell_type": "code",
   "execution_count": 29,
   "metadata": {},
   "outputs": [
    {
     "name": "stdout",
     "output_type": "stream",
     "text": [
      "65 Grade is C+\n"
     ]
    }
   ],
   "source": [
    "Grade(65)"
   ]
  },
  {
   "cell_type": "code",
   "execution_count": 30,
   "metadata": {},
   "outputs": [
    {
     "name": "stdout",
     "output_type": "stream",
     "text": [
      "90 Grade is A\n"
     ]
    }
   ],
   "source": [
    "Grade(90)"
   ]
  },
  {
   "cell_type": "code",
   "execution_count": 31,
   "metadata": {},
   "outputs": [
    {
     "name": "stdout",
     "output_type": "stream",
     "text": [
      "101 score is false\n"
     ]
    }
   ],
   "source": [
    "Grade(101)"
   ]
  },
  {
   "cell_type": "code",
   "execution_count": 32,
   "metadata": {},
   "outputs": [
    {
     "name": "stdout",
     "output_type": "stream",
     "text": [
      "-5 score is false\n"
     ]
    }
   ],
   "source": [
    "Grade(-5)"
   ]
  },
  {
   "cell_type": "code",
   "execution_count": 33,
   "metadata": {},
   "outputs": [
    {
     "name": "stdout",
     "output_type": "stream",
     "text": [
      "49 Grade is F\n"
     ]
    }
   ],
   "source": [
    "Grade(49)"
   ]
  },
  {
   "cell_type": "code",
   "execution_count": null,
   "metadata": {},
   "outputs": [],
   "source": []
  }
 ],
 "metadata": {
  "kernelspec": {
   "display_name": "Python 3",
   "language": "python",
   "name": "python3"
  },
  "language_info": {
   "codemirror_mode": {
    "name": "ipython",
    "version": 3
   },
   "file_extension": ".py",
   "mimetype": "text/x-python",
   "name": "python",
   "nbconvert_exporter": "python",
   "pygments_lexer": "ipython3",
   "version": "3.7.3"
  }
 },
 "nbformat": 4,
 "nbformat_minor": 2
}
